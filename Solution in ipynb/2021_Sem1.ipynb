{
 "cells": [
  {
   "cell_type": "markdown",
   "metadata": {},
   "source": [
    "## Part 1 DNA Comparison (15 + 15 = 30 marks)"
   ]
  },
  {
   "cell_type": "markdown",
   "metadata": {},
   "source": [
    "### Task 1 Iterative DNA Comparison (15 marks)"
   ]
  },
  {
   "cell_type": "code",
   "execution_count": null,
   "metadata": {},
   "outputs": [],
   "source": [
    "def compareDNA_I(dna1,dna2):\n",
    "    res = ''\n",
    "    for i in range(len(dna1)):\n",
    "        if dna1[i] == dna2[i]:\n",
    "            res += '*'\n",
    "        else:\n",
    "            res += '.'\n",
    "    return res"
   ]
  },
  {
   "cell_type": "markdown",
   "metadata": {},
   "source": [
    "### Task 2 Recursive Run-length Decoding (15 marks)"
   ]
  },
  {
   "cell_type": "code",
   "execution_count": null,
   "metadata": {},
   "outputs": [],
   "source": [
    "def compareDNA_R(dna1,dna2):\n",
    "    if not dna1:\n",
    "        return ''\n",
    "    elif dna1[0] == dna2[0]:\n",
    "        dna1 = '*'+compareDNA_R(dna1[1:],dna2[1:])\n",
    "    else:\n",
    "        dna1 = '.'+compareDNA_R(dna1[1:],dna2[1:])\n",
    "    return dna1"
   ]
  },
  {
   "cell_type": "markdown",
   "metadata": {},
   "source": [
    "## Part 2 Local Peaks Searching (15+15+10 = 35 marks)"
   ]
  },
  {
   "cell_type": "markdown",
   "metadata": {},
   "source": [
    "### Task 1 Array Version (15 marks)"
   ]
  },
  {
   "cell_type": "code",
   "execution_count": null,
   "metadata": {},
   "outputs": [
    {
     "data": {
      "text/plain": [
       "1"
      ]
     },
     "metadata": {},
     "output_type": "display_data"
    }
   ],
   "source": [
    "def local_peak_array_version(survey):\n",
    "    survey = [-1] + survey + [-1]\n",
    "    for i in range(1,len(survey)):\n",
    "        if survey[i-1] < survey[i] > survey[i+1]:\n",
    "            return i-1\n",
    "    \n",
    "local_peak_array_version([4,5,2,7,8,2,1,2,3,4,8])"
   ]
  },
  {
   "cell_type": "markdown",
   "metadata": {},
   "source": [
    "### Task 2 Function Version (15 marks)\n"
   ]
  },
  {
   "cell_type": "code",
   "execution_count": null,
   "metadata": {},
   "outputs": [
    {
     "name": "stdout",
     "output_type": "stream",
     "text": [
      "15\n"
     ]
    }
   ],
   "source": [
    "# This method cannot deal with large inputs\n",
    "def local_peak_function_version(a,b,survey):\n",
    "    lst = [-1]+[survey(i) for i in range(a,b+1)]+[-1]\n",
    "    for i in range(1,len(lst)):\n",
    "        if lst[i-1] < lst[i] > lst[i+1]:\n",
    "            return i+a-1\n",
    "survey3 = lambda i: [1,2,3,4,5,6,5,4,3,2][i%10]\n",
    "print(local_peak_function_version(11,19,survey3))"
   ]
  },
  {
   "cell_type": "markdown",
   "metadata": {},
   "source": [
    "### <font color=red> Important!! Binary sort!"
   ]
  },
  {
   "cell_type": "code",
   "execution_count": null,
   "metadata": {},
   "outputs": [
    {
     "name": "stdout",
     "output_type": "stream",
     "text": [
      "1234567890\n"
     ]
    }
   ],
   "source": [
    "def local_peak_function_version(a,b,survey):\n",
    "    # Set for the starting and ending points\n",
    "    if survey(a) > survey(a+1): return a        \n",
    "    elif survey(b) > survey(b-1): return b\n",
    "    # Other points in between\n",
    "    while b - a > 2:\n",
    "        if survey((a+b)//2) > survey((a+b)//2+1):\n",
    "            b = (a+b)//2 + 1\n",
    "        else:\n",
    "            a = (a+b)//2\n",
    "    if survey(a) >= survey(b):\n",
    "        return a + 1\n",
    "    else:\n",
    "        return b + 1\n",
    "survey2 = lambda i: i if i <= 1234567890 else (1234567890*2) - i - 1\n",
    "print(local_peak_function_version(0,12345678900,survey2))"
   ]
  },
  {
   "cell_type": "markdown",
   "metadata": {},
   "source": [
    "## Part 3 Fibonacci Password (10+20= 30 marks)"
   ]
  },
  {
   "cell_type": "markdown",
   "metadata": {},
   "source": [
    "### Task 1 The nth Password (10 marks)"
   ]
  },
  {
   "cell_type": "code",
   "execution_count": null,
   "metadata": {},
   "outputs": [],
   "source": [
    "# This recursion version cannot deal with large inputs\n",
    "def nth_day_pw(N):\n",
    "    if N < 1: return ''\n",
    "    elif N == 1: return 'F'\n",
    "    elif N == 2: return 'B'\n",
    "    else :  \n",
    "        return nth_day_pw(N-2) + nth_day_pw(N-1)"
   ]
  },
  {
   "cell_type": "code",
   "execution_count": null,
   "metadata": {},
   "outputs": [],
   "source": [
    "def nth_day_pw(N):\n",
    "    if N == 1: return 'F'\n",
    "    elif N == 2: return 'B'\n",
    "    res,previous_res1,previous_res2 = 'FB','F','B'\n",
    "    n = 3\n",
    "    while n < N:\n",
    "        previous_res1 = previous_res2\n",
    "        previous_res2 = res\n",
    "        res = previous_res1 + previous_res2\n",
    "        n += 1\n",
    "    return res\n",
    "\n",
    "def kth_letter_nth_day_pw(k,n):\n",
    "    return nth_day_pw(n)[k-1]"
   ]
  },
  {
   "cell_type": "code",
   "execution_count": null,
   "metadata": {},
   "outputs": [
    {
     "data": {
      "text/plain": [
       "'FBFBBFBFBBFBBFBFBBFB'"
      ]
     },
     "metadata": {},
     "output_type": "display_data"
    }
   ],
   "source": [
    "nth_day_pw(40)[-20:]"
   ]
  },
  {
   "cell_type": "markdown",
   "metadata": {},
   "source": [
    "### Task 2 The kth Letter of the nth Day Password(20 marks)"
   ]
  },
  {
   "cell_type": "code",
   "execution_count": null,
   "metadata": {},
   "outputs": [],
   "source": [
    "def kth_letter_nth_day_pw(k,n) :\n",
    "    def fib_len(n): # Return the length of the nth password\n",
    "        if n == 1 or n == 2: return 1\n",
    "        res,previous_res1,previous_res2 = 2,1,1\n",
    "        k = 3\n",
    "        while k < n:\n",
    "            previous_res1 = previous_res2\n",
    "            previous_res2 = res\n",
    "            res = previous_res1 + previous_res2\n",
    "            k += 1\n",
    "        return res\n",
    "    while n > 4: # Since the kth character always remain the same after 3th word\n",
    "        prev_len = fib_len(n-1)\n",
    "        if k <= prev_len:\n",
    "            n -= 1\n",
    "        else:\n",
    "            k = k - fib_len(n-2)\n",
    "            n -= 1\n",
    "    if k == 1 or k == 3: return 'B'\n",
    "    elif k == 2: return 'F'"
   ]
  },
  {
   "cell_type": "code",
   "execution_count": null,
   "metadata": {},
   "outputs": [
    {
     "name": "stdout",
     "output_type": "stream",
     "text": [
      "B\n"
     ]
    }
   ],
   "source": [
    "print(kth_letter_nth_day_pw(12345,999))"
   ]
  }
 ],
 "metadata": {
  "kernelspec": {
   "display_name": "Python 3 (ipykernel)",
   "language": "python",
   "name": "python3"
  },
  "language_info": {
   "codemirror_mode": {
    "name": "ipython",
    "version": 3
   },
   "file_extension": ".py",
   "mimetype": "text/x-python",
   "name": "python",
   "nbconvert_exporter": "python",
   "pygments_lexer": "ipython3",
   "version": "3.9.12"
  }
 },
 "nbformat": 4,
 "nbformat_minor": 2
}
