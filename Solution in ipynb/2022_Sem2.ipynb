{
 "cells": [
  {
   "cell_type": "markdown",
   "metadata": {},
   "source": [
    "# Part 1 Plinko (10 + 10 + 10 = 30 marks) "
   ]
  },
  {
   "cell_type": "markdown",
   "metadata": {},
   "source": [
    "## Task 1 Plinko Iterative Version"
   ]
  },
  {
   "cell_type": "code",
   "execution_count": 23,
   "metadata": {},
   "outputs": [
    {
     "name": "stdout",
     "output_type": "stream",
     "text": [
      "4\n"
     ]
    }
   ],
   "source": [
    "def plinko_i(seq,b,m,s):\n",
    "    i = 0\n",
    "    res = 0\n",
    "    while all([b,m,s]) and (i <=len(seq)-1 ):\n",
    "        if seq[i] == 0:\n",
    "            b -= 1\n",
    "        elif seq[i] == 1:\n",
    "            m -= 1\n",
    "        else:\n",
    "            s -= 1\n",
    "        i += 1\n",
    "        res += 1\n",
    "    return res\n",
    "print(plinko_i((0,1,2,0),3,3,2))"
   ]
  },
  {
   "cell_type": "markdown",
   "metadata": {},
   "source": [
    "## Task 2 Plinko Recursive Version"
   ]
  },
  {
   "cell_type": "code",
   "execution_count": 19,
   "metadata": {},
   "outputs": [
    {
     "name": "stdout",
     "output_type": "stream",
     "text": [
      "7\n"
     ]
    }
   ],
   "source": [
    "def plinko_r(seq,b,m,s):\n",
    "    if not (b and m and s and seq): return 0\n",
    "    elif seq[0] == 0:\n",
    "        return 1+plinko_r(seq[1:],b-1,m,s)\n",
    "    elif seq[0] == 1:\n",
    "        return 1+plinko_r(seq[1:],b,m-1,s)\n",
    "    elif seq[0] == 2:\n",
    "        return 1+plinko_r(seq[1:],b,m,s-1)\n",
    "\n",
    "print(plinko_r((0,0,0,0,1,0,1,2),6,2,2))"
   ]
  },
  {
   "cell_type": "markdown",
   "metadata": {},
   "source": [
    "## Task 3 Plinko General Version "
   ]
  },
  {
   "cell_type": "code",
   "execution_count": 29,
   "metadata": {},
   "outputs": [
    {
     "name": "stdout",
     "output_type": "stream",
     "text": [
      "8\n"
     ]
    }
   ],
   "source": [
    "def plinko_general(seq,prizes):\n",
    "    prize_lst = list(prizes)\n",
    "    i = 0\n",
    "    res = 0\n",
    "    while all(prize_lst) and (i <=len(seq)-1 ):\n",
    "        ind = seq[i]\n",
    "        prize_lst[ind] -= 1\n",
    "        i += 1\n",
    "        res += 1\n",
    "    return res\n",
    "        \n",
    "print(plinko_general((0,1,2,0,1,2,0,1,2,2,2,1,1,0,1),(4,3,4)))"
   ]
  },
  {
   "cell_type": "markdown",
   "metadata": {},
   "source": [
    "## Part 2 Archaeologist Text Fragment Matching (20 + 10 marks) "
   ]
  },
  {
   "cell_type": "code",
   "execution_count": 51,
   "metadata": {},
   "outputs": [
    {
     "name": "stdout",
     "output_type": "stream",
     "text": [
      "[('bo', 'ard'), ('boa', 'rd')]\n"
     ]
    }
   ],
   "source": [
    "def fragment(filename,word):\n",
    "    with open (filename) as f:\n",
    "        data = f.read().split()\n",
    "    start_lst = []\n",
    "    end_lst = []\n",
    "    s = ''\n",
    "    for i in range(len(word)-1):\n",
    "        start_lst.append(s+word[i])\n",
    "        end_lst.append(word[i+1:]) \n",
    "        s = s+word[i]\n",
    "    collection =  list(zip(start_lst,end_lst))\n",
    "    res = collection.copy()\n",
    "    for i in collection:\n",
    "        if not ((i[0] in data) and (i[1] in data)):\n",
    "            res.remove(i)\n",
    "    return res\n",
    "\n",
    "print(fragment('fragment_all2.txt','board'))"
   ]
  },
  {
   "cell_type": "markdown",
   "metadata": {},
   "source": [
    "## Part 3 Island Perimeter (20 + 20 marks) "
   ]
  },
  {
   "cell_type": "code",
   "execution_count": 1,
   "metadata": {},
   "outputs": [],
   "source": [
    "map0 = [[0, 0, 0, 0], [0, 1, 1, 0], [0, 1, 0, 0],[0, 0, 0, 0], [0, 1, 1, 0], [0, 0, 0, 0]]\n",
    "map1 = [[0, 0, 1, 0, 0, 0], [0, 0, 1, 1, 1, 1], [1, 1, 0, 0, 0, 0], [0, 1, 0, 1, 1, 1], [0, 1, 0, 1, 0, 1], [0, 0, 0, 1, 0, 0], [0, 0, 0, 0, 0, 0]]"
   ]
  },
  {
   "cell_type": "code",
   "execution_count": 7,
   "metadata": {},
   "outputs": [
    {
     "data": {
      "text/plain": [
       "36"
      ]
     },
     "execution_count": 7,
     "metadata": {},
     "output_type": "execute_result"
    }
   ],
   "source": [
    "def count_sides(map_mat,row,col):\n",
    "    up,low,left,right = 0,0,0,0\n",
    "    if row == 0: up = 1\n",
    "    if row == len(map_mat)-1: low = 1\n",
    "    if col == 0: left = 1\n",
    "    if col == len(map_mat[0])-1: right = 1\n",
    "\n",
    "    if not up:\n",
    "        if map_mat[row-1][col] == 0: up = 1\n",
    "    if not low:\n",
    "        if map_mat[row+1][col] == 0: low = 1\n",
    "    if not left:\n",
    "        if map_mat[row][col-1] == 0: left = 1\n",
    "    if not right:\n",
    "        if map_mat[row][col+1] == 0: right = 1\n",
    "    return up+low+left+right\n",
    "\n",
    "def total_perimeter(mp):    \n",
    "    count_lst = [count_sides(mp,i,j) for i in range(len(mp)) for j in range(len(mp[i])) if mp[i][j] == 1]\n",
    "    return sum(count_lst)\n",
    "\n",
    "total_perimeter(map1)"
   ]
  },
  {
   "cell_type": "code",
   "execution_count": 3,
   "metadata": {},
   "outputs": [],
   "source": [
    "def find_islands(matrix):\n",
    "    if not matrix: return []\n",
    "\n",
    "    rows, cols = len(matrix), len(matrix[0])\n",
    "    visited = [[False for _ in range(cols)] for _ in range(rows)]\n",
    "\n",
    "    def search_adjacent(r, c, current_island):\n",
    "        if r < 0 or r >= rows or c < 0 or c >= cols or visited[r][c] or matrix[r][c] == 0:\n",
    "            return\n",
    "        visited[r][c] = True\n",
    "        current_island.append((r, c))\n",
    "        search_adjacent(r-1, c, current_island)\n",
    "        search_adjacent(r+1, c, current_island)\n",
    "        search_adjacent(r, c-1, current_island)\n",
    "        search_adjacent(r, c+1, current_island)\n",
    "\n",
    "    islands = []\n",
    "    for r in range(rows):\n",
    "        for c in range(cols):\n",
    "            if matrix[r][c] == 1 and not visited[r][c]:\n",
    "                current_island = []\n",
    "                search_adjacent(r, c, current_island)\n",
    "                islands.append(current_island)\n",
    "\n",
    "    return islands"
   ]
  },
  {
   "cell_type": "code",
   "execution_count": 9,
   "metadata": {},
   "outputs": [],
   "source": [
    "def max_island_perimeter(mp):\n",
    "    islands = find_islands(mp)\n",
    "    perimeter = []\n",
    "    for i in islands:\n",
    "        count = 0\n",
    "        for j in i:\n",
    "            count += count_sides(mp,j[0],j[1])\n",
    "        perimeter.append(count)\n",
    "\n",
    "    return max(perimeter)"
   ]
  },
  {
   "cell_type": "code",
   "execution_count": 10,
   "metadata": {},
   "outputs": [
    {
     "data": {
      "text/plain": [
       "14"
      ]
     },
     "execution_count": 10,
     "metadata": {},
     "output_type": "execute_result"
    }
   ],
   "source": [
    "max_island_perimeter(map1)"
   ]
  }
 ],
 "metadata": {
  "kernelspec": {
   "display_name": "IT5001",
   "language": "python",
   "name": "python3"
  },
  "language_info": {
   "codemirror_mode": {
    "name": "ipython",
    "version": 3
   },
   "file_extension": ".py",
   "mimetype": "text/x-python",
   "name": "python",
   "nbconvert_exporter": "python",
   "pygments_lexer": "ipython3",
   "version": "3.9.12"
  },
  "orig_nbformat": 4
 },
 "nbformat": 4,
 "nbformat_minor": 2
}
